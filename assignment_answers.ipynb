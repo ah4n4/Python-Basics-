{
  "nbformat": 4,
  "nbformat_minor": 5,
  "metadata": {
    "kernelspec": {
      "name": "python3",
      "display_name": "Python 3"
    },
    "language_info": {
      "name": "python",
      "version": "3.x"
    }
  },
  "cells": [
    {
      "cell_type": "markdown",
      "metadata": {},
      "source": [
        "# Assignment: Python Basics \u2014 Questions & Answers\n",
        "\n",
        "This notebook contains theoretical answers (Markdown) and runnable code cells for the practical tasks.\n",
        "\n",
        "Created: 2025-09-17 06:05:19 UTC"
      ]
    },
    {
      "cell_type": "markdown",
      "metadata": {},
      "source": [
        "## Q: What is Python, and why is it popular?\n",
        "\n",
        "**A:** Python is a high-level, interpreted programming language known for readable syntax, a large standard library, strong community support, and many third-party packages. It's popular for web development, data science, automation, scripting, and education because it is easy to learn and expressive.\n"
      ]
    },
    {
      "cell_type": "markdown",
      "metadata": {},
      "source": [
        "## Q: What is an interpreter in Python?\n",
        "\n",
        "**A:** An interpreter executes Python code. CPython compiles to bytecode and runs it on a virtual machine; other implementations exist (PyPy, Jython, IronPython).\n"
      ]
    },
    {
      "cell_type": "markdown",
      "metadata": {},
      "source": [
        "## Q: What are pre-defined keywords in Python?\n",
        "\n",
        "**A:** Keywords are reserved words with special meaning in the language syntax (e.g., if, else, for, while, def, class, import, True, False, None). They cannot be used as variable names.\n"
      ]
    },
    {
      "cell_type": "markdown",
      "metadata": {},
      "source": [
        "## Q: Can keywords be used as variable names?\n",
        "\n",
        "**A:** No. Keywords are reserved; using them as variable names causes a SyntaxError.\n"
      ]
    },
    {
      "cell_type": "markdown",
      "metadata": {},
      "source": [
        "## Q: What is mutability in Python?\n",
        "\n",
        "**A:** Mutability describes whether an object's state can be changed after creation. Mutable objects (lists, dicts, sets) can be changed; immutable objects (ints, floats, strings, tuples) cannot.\n"
      ]
    },
    {
      "cell_type": "markdown",
      "metadata": {},
      "source": [
        "## Q: Why are lists mutable, but tuples are immutable?\n",
        "\n",
        "**A:** Lists are designed to change (append, remove, modify), while tuples are fixed sequences. Immutability can make objects hashable and safer as constants or dict keys.\n"
      ]
    },
    {
      "cell_type": "markdown",
      "metadata": {},
      "source": [
        "## Q: What is the difference between == and is operators in Python?\n",
        "\n",
        "**A:** == checks value equality; is checks identity (same object in memory). Two distinct objects can be == but not is.\n"
      ]
    },
    {
      "cell_type": "markdown",
      "metadata": {},
      "source": [
        "## Q: What are logical operators in Python?\n",
        "\n",
        "**A:** Logical operators: and, or, not. They combine or invert boolean expressions.\n"
      ]
    },
    {
      "cell_type": "markdown",
      "metadata": {},
      "source": [
        "## Q: What is type casting in Python?\n",
        "\n",
        "**A:** Type casting converts values between types, e.g., int('5') -> 5, float('3.14') -> 3.14, str(10) -> '10'.\n"
      ]
    },
    {
      "cell_type": "markdown",
      "metadata": {},
      "source": [
        "## Q: What is the difference between implicit and explicit type casting?\n",
        "\n",
        "**A:** Implicit casting is automatic by Python (e.g., int to float in mixed arithmetic). Explicit casting is done by the programmer using constructors like int(), float(), str().\n"
      ]
    },
    {
      "cell_type": "markdown",
      "metadata": {},
      "source": [
        "## Q: What is the purpose of conditional statements in Python?\n",
        "\n",
        "**A:** Conditionals (if/elif/else) direct program flow by executing different blocks based on boolean expressions.\n"
      ]
    },
    {
      "cell_type": "markdown",
      "metadata": {},
      "source": [
        "## Q: How does the elif statement work?\n",
        "\n",
        "**A:** elif provides additional conditional checks after if. Evaluated sequentially; the first true branch runs, others are skipped.\n"
      ]
    },
    {
      "cell_type": "markdown",
      "metadata": {},
      "source": [
        "## Q: What is the difference between for and while loops?\n",
        "\n",
        "**A:** for iterates over sequences/iterators (definite). while repeats while a condition is true (indefinite until condition changes).\n"
      ]
    },
    {
      "cell_type": "markdown",
      "metadata": {},
      "source": [
        "## Q: Describe a scenario where a while loop is more suitable than a for loop.\n",
        "\n",
        "**A:** When you must loop until a condition changes based on runtime events, not sequence length \u2014 e.g., read input until user types 'exit', or iterate until a convergence threshold is reached.\n"
      ]
    },
    {
      "cell_type": "markdown",
      "metadata": {},
      "source": [
        "## Practical Questions \u2014 Code\n",
        "Run the code cells in order. Replace example inputs with `input()` if you want interactive runs in Colab."
      ]
    },
    {
      "cell_type": "code",
      "metadata": {},
      "execution_count": null,
      "outputs": [],
      "source": [
        "# 1. Print \"Hello, World!\"\n",
        "print(\"Hello, World!\")"
      ]
    },
    {
      "cell_type": "code",
      "metadata": {},
      "execution_count": null,
      "outputs": [],
      "source": [
        "# 2. Display name and age\n",
        "name = \"Your Name\"  # change it\n",
        "age = 20            # change it\n",
        "print(f\"My name is {name} and I am {age} years old.\")"
      ]
    },
    {
      "cell_type": "code",
      "metadata": {},
      "execution_count": null,
      "outputs": [],
      "source": [
        "# 3. Print all predefined keywords in Python using keyword module\n",
        "import keyword\n",
        "print(\"Python keywords:\", keyword.kwlist)"
      ]
    },
    {
      "cell_type": "code",
      "metadata": {},
      "execution_count": null,
      "outputs": [],
      "source": [
        "# 4. Check if a given word is a Python keyword\n",
        "import keyword\n",
        "def is_keyword(word):\n",
        "    return keyword.iskeyword(word)\n",
        "\n",
        "print(\"while ->\", is_keyword(\"while\"))\n",
        "print(\"hello ->\", is_keyword(\"hello\"))"
      ]
    },
    {
      "cell_type": "code",
      "metadata": {},
      "execution_count": null,
      "outputs": [],
      "source": [
        "# 5. List vs tuple mutation demonstration\n",
        "my_list = [1,2,3]\n",
        "my_tuple = (1,2,3)\n",
        "print(\"Before list:\", my_list)\n",
        "my_list[0] = 99\n",
        "print(\"After list:\", my_list)\n",
        "print(\"Tuple:\", my_tuple)\n",
        "try:\n",
        "    my_tuple[0] = 99\n",
        "except TypeError as e:\n",
        "    print(\"Cannot modify tuple:\", e)"
      ]
    },
    {
      "cell_type": "code",
      "metadata": {},
      "execution_count": null,
      "outputs": [],
      "source": [
        "# 6. Demonstrate mutable vs immutable argument behavior\n",
        "def modify(a, b):\n",
        "    a += 10\n",
        "    b.append(999)\n",
        "    return a, b\n",
        "\n",
        "x = 5\n",
        "y = [1,2,3]\n",
        "print(\"Before:\", x, y)\n",
        "new_x, new_y = modify(x, y)\n",
        "print(\"After function call - original x:\", x, \"returned new_x:\", new_x)\n",
        "print(\"Original list after call (mutated):\", y)"
      ]
    },
    {
      "cell_type": "code",
      "metadata": {},
      "execution_count": null,
      "outputs": [],
      "source": [
        "# 7. Basic arithmetic operations on two numbers (example)\n",
        "def arithmetic(a, b):\n",
        "    return a+b, a-b, a*b, (a/b if b!=0 else None), a**b, (a%b if b!=0 else None)\n",
        "\n",
        "print(arithmetic(12,5))"
      ]
    },
    {
      "cell_type": "code",
      "metadata": {},
      "execution_count": null,
      "outputs": [],
      "source": [
        "# 8. Demonstrate logical operators\n",
        "a=True; b=False\n",
        "print(\"a and b:\", a and b)\n",
        "print(\"a or b:\", a or b)\n",
        "print(\"not a:\", not a)\n",
        "x=15\n",
        "print(\"x>10 and x<20 ->\", x>10 and x<20)"
      ]
    },
    {
      "cell_type": "code",
      "metadata": {},
      "execution_count": null,
      "outputs": [],
      "source": [
        "# 9. Convert strings to int, float, bool\n",
        "s = \"123\"\n",
        "print(int(s), type(int(s)))\n",
        "print(float(s), type(float(s)))\n",
        "print(bool(s), \"(non-empty string -> True)\")\n",
        "print(bool(\"\"), \"(empty string -> False)\")"
      ]
    },
    {
      "cell_type": "code",
      "metadata": {},
      "execution_count": null,
      "outputs": [],
      "source": [
        "# 10. Type casting with list elements\n",
        "lst = [\"1\", \"2\", \"3.5\"]\n",
        "res = [int(lst[0]), int(lst[1]), float(lst[2])]\n",
        "print(\"Casted list:\", res)"
      ]
    },
    {
      "cell_type": "code",
      "metadata": {},
      "execution_count": null,
      "outputs": [],
      "source": [
        "# 11. Check if number is positive, negative or zero\n",
        "def sign(n):\n",
        "    if n>0: return \"Positive\"\n",
        "    elif n<0: return \"Negative\"\n",
        "    else: return \"Zero\"\n",
        "\n",
        "print(sign(10), sign(-3), sign(0))"
      ]
    },
    {
      "cell_type": "code",
      "metadata": {},
      "execution_count": null,
      "outputs": [],
      "source": [
        "# 12. For loop to print numbers from 1 to 10\n",
        "for i in range(1,11):\n",
        "    print(i, end=\" \")\n",
        "print()"
      ]
    },
    {
      "cell_type": "code",
      "metadata": {},
      "execution_count": null,
      "outputs": [],
      "source": [
        "# 13. Sum of all even numbers between 1 and 50\n",
        "total = sum(i for i in range(1,51) if i%2==0)\n",
        "print(\"Sum:\", total)"
      ]
    },
    {
      "cell_type": "code",
      "metadata": {},
      "execution_count": null,
      "outputs": [],
      "source": [
        "# 14. Reverse a string using while loop\n",
        "s = \"Hello\"\n",
        "i = len(s)-1\n",
        "rev = \"\"\n",
        "while i>=0:\n",
        "    rev += s[i]\n",
        "    i -= 1\n",
        "print(\"Reversed:\", rev)"
      ]
    },
    {
      "cell_type": "code",
      "metadata": {},
      "execution_count": null,
      "outputs": [],
      "source": [
        "# 15. Factorial using while loop\n",
        "n = 6\n",
        "fact = 1\n",
        "i = 1\n",
        "while i<=n:\n",
        "    fact *= i\n",
        "    i += 1\n",
        "print(f\"Factorial of {n} is\", fact)"
      ]
    }
  ]
}